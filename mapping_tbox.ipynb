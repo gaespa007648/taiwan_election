{
 "cells": [
  {
   "cell_type": "markdown",
   "id": "f0992791-af8f-4bf6-b93f-46c04d341d24",
   "metadata": {},
   "source": [
    "### 投開票所轉換教學\n",
    "<p>\n",
    "此Python腳本示範如何將中選會投開票所的公開資訊轉換成選舉模組需要使用的對照表，在執行該檔案的腳本之前，請先利用election_hisotry中的\n",
    "<a href=\"https://github.com/readr-data/election_history/blob/master/liCode_voter.Rmd\">liCode_voter.Rmd</a>\n",
    "腳本將網路上的投開票所資訊爬蟲到該資料夾底下，並設定cec_tbox_filepath為該檔案路徑。完成後再執行下面的函式產生對照表。\n",
    "</p>"
   ]
  },
  {
   "cell_type": "markdown",
   "id": "9a1d25de-a714-48fc-b6c3-89bdb700ccc8",
   "metadata": {},
   "source": [
    "### 安裝並引入相依套件"
   ]
  },
  {
   "cell_type": "code",
   "execution_count": null,
   "id": "62d8b711-3212-4799-84b3-7d0887c8ab63",
   "metadata": {},
   "outputs": [],
   "source": [
    "!pip install --upgrade pip\n",
    "!pip install -r requirements.txt"
   ]
  },
  {
   "cell_type": "code",
   "execution_count": null,
   "id": "dc871de7-81ab-47db-b6e7-a57c8094b5db",
   "metadata": {},
   "outputs": [],
   "source": [
    "import json\n",
    "import os\n",
    "import copy\n",
    "import pandas as pd\n",
    "from collections import defaultdict"
   ]
  },
  {
   "cell_type": "markdown",
   "id": "2e49b2eb-2ae6-4735-9f80-d0ad6650b45b",
   "metadata": {},
   "source": [
    "### 系統操作函式"
   ]
  },
  {
   "cell_type": "code",
   "execution_count": null,
   "id": "0db12b99-e39f-42e4-b125-1d9fd5f01504",
   "metadata": {},
   "outputs": [],
   "source": [
    "def save_file(destination_file, data):\n",
    "    dirname = os.path.dirname(destination_file)\n",
    "    if len(dirname)>0 and not os.path.exists(dirname):\n",
    "        os.makedirs(dirname)\n",
    "    with open(destination_file, 'w', encoding='utf-8') as json_file:\n",
    "        json.dump(data, json_file, ensure_ascii=False, indent=4)\n",
    "        print(f'Save data to {destination_file} successed.')"
   ]
  },
  {
   "cell_type": "markdown",
   "id": "d2619bb4-88b9-46dd-9866-cc292a1c1e2f",
   "metadata": {},
   "source": [
    "### 產生mapping表"
   ]
  },
  {
   "cell_type": "code",
   "execution_count": null,
   "id": "2fbde0d2-83ca-46f1-8ad1-3db00231706a",
   "metadata": {},
   "outputs": [],
   "source": [
    "def gen_tbox_mapping(filepath: str):\n",
    "    result = {}\n",
    "    tbox_info = pd.read_csv(filepath)\n",
    "    # tbox_info.columns = ['city', 'tboxNo', 'tboxName', 'address']\n",
    "    tbox_info.columns = ['tboxNo', 'village', 'countyCode', 'townCode']\n",
    "    tbox_info['village'] = tbox_info['village'].str.replace('\\n','')\n",
    "    tbox_info['countyCode'] = tbox_info['countyCode'].astype(str).apply(lambda x: x.zfill(5))\n",
    "    tbox_info['townCode'] = tbox_info['townCode'].astype(str).apply(lambda x: x.zfill(3))\n",
    "    tbox_info['tboxNo'] = tbox_info['tboxNo'].astype(str)\n",
    "\n",
    "    for i in range(len(tbox_info)):\n",
    "        data = tbox_info.iloc[i]\n",
    "        countyCode = data['countyCode']\n",
    "        townCode   = data['townCode']\n",
    "        tboxNo     = data['tboxNo']\n",
    "        village    = data['village']\n",
    "\n",
    "        subCounty = result.setdefault(countyCode, {})\n",
    "        subTown = subCounty.setdefault(townCode, {})\n",
    "        subTbox = subTown.setdefault(tboxNo, [])\n",
    "        subTbox.append(village)\n",
    "    return result"
   ]
  },
  {
   "cell_type": "code",
   "execution_count": null,
   "id": "38237b39-f8c1-420c-8ef3-1c405a3a3b04",
   "metadata": {},
   "outputs": [],
   "source": [
    "cec_tbox_filepath = os.path.join('.', 'cec-data', '20240113_tbox.csv') ### TODO: 需要使用爬蟲重新產生[time]_tbox.csv檔案\n",
    "mapping_tbox = gen_tbox_mapping(cec_tbox_filepath)\n",
    "mapping_tbox"
   ]
  },
  {
   "cell_type": "markdown",
   "id": "1673b65b-a9f5-4a2d-9d12-e7d94fd7174a",
   "metadata": {},
   "source": [
    "在產生tbox的對照表後，請將其存檔並手動放入選舉模板中的mapping資料夾底下"
   ]
  }
 ],
 "metadata": {
  "kernelspec": {
   "display_name": "Python 3 (ipykernel)",
   "language": "python",
   "name": "python3"
  },
  "language_info": {
   "codemirror_mode": {
    "name": "ipython",
    "version": 3
   },
   "file_extension": ".py",
   "mimetype": "text/x-python",
   "name": "python",
   "nbconvert_exporter": "python",
   "pygments_lexer": "ipython3",
   "version": "3.9.18"
  }
 },
 "nbformat": 4,
 "nbformat_minor": 5
}
